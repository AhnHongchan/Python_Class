{
 "cells": [
  {
   "cell_type": "markdown",
   "metadata": {},
   "source": [
    "# 문제풀이 2\n",
    "\n",
    "## 문제해결능력 훈련 문제를 풀기 위한 절차\n",
    "    1. 문제 이해\n",
    "     - 한 글자도 놓치지 않고, 문제가 요구하는 바를 명확하게 이해한다.\n",
    "     - 예제가 손으로 검증할 수 있는 범위일 때, 손으로 검증해본다.\n",
    "        (문제 이해를 확실히 했는 지 알 수 있음)\n",
    "     - N의 최소, 최댓값을 확인한다.\n",
    "    \n",
    "    2. 설계\n",
    "     - 어떻게 구현할 것인지 종이와 펜을 준비하여 자유롭게 계획을 세워본다.(설계 = 계획)\n",
    "     - 설계대로 구현을 했다면, 예제 데이터가 예상하는 정답이 나오는지 시뮬레이션 해본다.(설계검증)\n",
    "     - 설계가 완료되기 전까지, 구현을 시작하지 않는다.\n",
    "    \n",
    "    3. 구현 & 디버깅\n",
    "    "
   ]
  },
  {
   "cell_type": "markdown",
   "metadata": {},
   "source": [
    "## 6019. 기차 사이의 파리\n",
    "궁금증이 많은 한 소녀는 존 폰 노이만에게 다음과 같은 문제를 질문했다.\n",
    "두 기차 A, B가 서로를 향해 달리고 있다. 두 기차의 전면부는 250마일 떨어져 있고 기차 A는 시속 10마일, B는 시속 15마일로 달리고 있다.\n",
    "파리가 기차 A의 전면부에서 기차 B로 시속 20마일의 속력으로 날아간다. 파리가 기차 B의 전면부에 닿으면 바로 방햐을 바꿔 기차 A를 향해 같은 속력으로 날아간다.\n",
    "\n",
    "그러다 기차 A와 B가 충돌하면 파리는 죽을 것이다. 파리는 죽기 전 몇 마일의 거리를 이동했을까?\n",
    "무한급수 이용하면 200마일\n",
    "\n",
    "일반화된 문제:\n",
    "\n",
    "[입력]\n",
    "\n",
    "첫 번째 줄에 테스트 케이스의 수 T가 주어진다.\n",
    "\n",
    "각 테스트 케이스의 첫 번째 줄에는 네 정수 D, A, B, F (1 ≤ D ≤ 103, 1 ≤ A ≤ B ＜ F ≤ 102) 가 주어진다.\n",
    "\n",
    "D는 두 기차 전면부 사이의 거리, A는 기차 A의 속력, B는 기차 B의 속력, F는 파리의 속력이다.\n",
    "\n",
    "\n",
    "[출력]\n",
    "\n",
    "각 테스트 케이스마다 ‘#t’(t는 테스트케이스 번호를 의미하며 1부터 시작한다)를 출력하고 한 칸을 띄운 후,\n",
    "\n",
    "각 테스트 케이스마다 파리가 이동한 거리를 출력한다. 정답과의 절대오차나 상대오차가 10-6 이하이면 정답으로 인정한다."
   ]
  },
  {
   "cell_type": "code",
   "execution_count": 2,
   "metadata": {},
   "outputs": [
    {
     "name": "stdout",
     "output_type": "stream",
     "text": [
      "#1 200.0\n"
     ]
    }
   ],
   "source": [
    "T = int(input())\n",
    "for tc in range(1, T+1):\n",
    "    D, A, B, F = map(int, input().split())\n",
    "    T = D / (A + B)\n",
    "    result = F * T\n",
    "    print(f\"#{tc} {result}\")\n"
   ]
  },
  {
   "cell_type": "markdown",
   "metadata": {},
   "source": [
    "## 풀이\n",
    "두 기차가 부딪히기 전까지 소모된 시간 동안 파리가 움직인 거리를 구한다."
   ]
  },
  {
   "cell_type": "markdown",
   "metadata": {},
   "source": [
    "# 16910. 원 안의 점\n",
    " N이 주어질 때, 원점을 중심으로 반지름이 N인 원 안에 포함되는 격자점(x,y 좌표가 모두 정수인 점)의 개수를 구하는 프로그램을 작성하라.\n",
    "\n",
    "다시 말하자면, x2+y2<=N2인 격자점의 개수를 구하는 프로그램을 작성하라.\n",
    "\n",
    "[입력]\n",
    "\n",
    "첫 번째 줄에 테스트 케이스의 수 T가 주어진다.\n",
    "\n",
    "각 테스트 케이스의 첫 번째 줄에는 하나의 정수 N(1<=N<=200)이 주어진다.\n",
    "\n",
    "[출력]\n",
    "\n",
    "각 테스트 케이스마다 반지름이 N인 원 안에 포함되는 격자점의 개수를 출력한다."
   ]
  },
  {
   "cell_type": "code",
   "execution_count": 7,
   "metadata": {},
   "outputs": [
    {
     "name": "stdout",
     "output_type": "stream",
     "text": [
      "#1 5\n",
      "#2 317\n",
      "#3 31417\n"
     ]
    }
   ],
   "source": [
    "T = int(input())\n",
    "for tc in range(1, T+1):\n",
    "    N = int(input())\n",
    "    cnt = 0\n",
    "    for x in range(-N, N+1):\n",
    "        for y in range(-N, N+1):\n",
    "            if x**2 + y**2 <= N**2:\n",
    "                cnt += 1\n",
    "    print(f'#{tc} {cnt}')"
   ]
  },
  {
   "cell_type": "markdown",
   "metadata": {},
   "source": [
    "# 풀이\n",
    "그냥 원 내에 점 개수 세는 문제라 쉬움\n",
    "문제 그대로 식 쓰면 된다."
   ]
  },
  {
   "cell_type": "markdown",
   "metadata": {},
   "source": [
    "# 3499. 퍼펙트 셔플\n",
    "\n",
    "카드를 퍼펙트 셔플 한다는 것은, 카드 덱을 정확히 절반으로 나누고 나눈 것들에서 교대로 카드를 뽑아 새로운 덱을 만드는 것을 의미한다. \n",
    "\n",
    "정확한 방식은 다음 그림과 같다.\n",
    "\n",
    "![이미지](./images/capture_544.PNG)\n",
    "\n",
    "N개의 카드가 있는 덱이 주어질 때 이를 퍼펙트 셔플하면 어떤 순서가 되는지 출력하는 프로그램을 작성하라.\n",
    "\n",
    "만약 N이 홀수이면, 교대로 놓을 때 먼저 놓는 쪽에 한 장이 더 들어가게 하면 된다.\n",
    "\n",
    "\n",
    "[입력]\n",
    "\n",
    "첫 번째 줄에 테스트 케이스의 수 T가 주어진다.\n",
    "\n",
    "각 테스트 케이스의 첫 번째 줄에는 자연수 N(1 ≤ N ≤ 1,000)이 주어진다.\n",
    "\n",
    "두 번째 줄에는 덱에 카드가 놓인 순서대로 N개의 카드 이름이 공백으로 구분되어 주어진다.\n",
    "\n",
    "카드의 이름은 알파벳 대문자와 ‘-’만으로 이루어져 있으며, 길이는 80이하이다.\n",
    "\n",
    "[출력]\n",
    "\n",
    "각 테스트 케이스마다 주어진 덱을 퍼펙트 셔플한 결과를 한 줄에 카드 이름을 공백으로 구분하여 출력한다."
   ]
  },
  {
   "cell_type": "code",
   "execution_count": 10,
   "metadata": {},
   "outputs": [
    {
     "name": "stdout",
     "output_type": "stream",
     "text": [
      "#1 A D B E C F \n",
      "#2 JACK KING QUEEN ACE \n",
      "#3 ALAKIR LORD-JARAXXUS ALEXSTRASZA AVIANA DR-BOOM \n"
     ]
    }
   ],
   "source": [
    "T = int(input())\n",
    "for tc in range(1, T+1):\n",
    "    N = int(input())\n",
    "    lst = input().split()\n",
    "    left = []\n",
    "    right = []\n",
    "    print(f'#{tc}', end= ' ')\n",
    "    for i in range(N):\n",
    "        if i  < N / 2:\n",
    "            left.append(lst[i])\n",
    "        else:\n",
    "            right.append(lst[i])\n",
    "    for i in range(N//2):        \n",
    "        print(left[i], end = ' ')\n",
    "        print(right[i], end = ' ')\n",
    "    if N % 2 == 1:\n",
    "        print(left[N//2], end = ' ')\n",
    "    print()"
   ]
  },
  {
   "cell_type": "markdown",
   "metadata": {},
   "source": [
    "# 풀이 1\n",
    "left, right로 나눠서 조건에 맞게 받은 후\n",
    "주어진 조건에 따라 출력"
   ]
  },
  {
   "cell_type": "code",
   "execution_count": 12,
   "metadata": {},
   "outputs": [
    {
     "name": "stdout",
     "output_type": "stream",
     "text": [
      "#1 A D B E C F \n",
      "#2 JACK KING QUEEN ACE \n",
      "#3 ALAKIR LORD-JARAXXUS ALEXSTRASZA AVIANA DR-BOOM \n"
     ]
    }
   ],
   "source": [
    "def get_result():\n",
    "    a = 0\n",
    "    b = (N + 1) // 2\n",
    "\n",
    "    for turn in range(N):\n",
    "        if turn % 2 == 0:\n",
    "            print(arr[a], end = ' ')\n",
    "            a += 1\n",
    "        else:\n",
    "            print(arr[b], end = ' ')\n",
    "            b += 1\n",
    "\n",
    "T = int(input())\n",
    "for tc in range(1, T+1):\n",
    "    N = int(input())\n",
    "    arr = input().split()\n",
    "    print(f'#{tc}', end = ' ')\n",
    "    get_result()\n",
    "    print()\n"
   ]
  },
  {
   "cell_type": "markdown",
   "metadata": {},
   "source": [
    "# 풀이2: 투포인트 알고리즘\n",
    "a = 맨 처음\n",
    "b = 중간값 + 1\n",
    "\n",
    "Loop{\n",
    "    a 출력 후 a += 1\n",
    "    b 출력 후 b += 1\n",
    "}"
   ]
  },
  {
   "cell_type": "markdown",
   "metadata": {},
   "source": [
    "# 10580. 전봇대\n",
    "현우는 길을 가다가 전선들이 복잡하게 꼬여 있는 전봇대 두 개를 보았다. 두 전봇대는 높이가 매우 높으며, N개의 팽팽한 전선으로 연결되어 있었다. 두 전선이 끝점이 같은 경우는 없으나, 교차하는 경우는 있다. 이를 그림으로 하면 아래와 같다. (전선 3개가 있으며, 교차점 2개가 검은색으로 칠해졌다.)\n",
    "\n",
    "![이미지](./images/capture_545.PNG)\n",
    "\n",
    "세 개 이상의 전선이 하나의 점에서 만나지 않는다고 가정하자. 이 전봇대에는 총 몇 개의 교차점이 있을까?\n",
    "\n",
    "[입력]\n",
    "\n",
    "첫 번째 줄에 테스트 케이스의 수 TC가 주어진다. 이후 TC개의 테스트 케이스가 새 줄로 구분되어 주어진다. 각 테스트 케이스는 다음과 같이 구성되었다.\n",
    "\n",
    "첫 번째 줄에 주어지는 전선의 개수 N이 주어진다 (1 ≤ N ≤1000).\n",
    "\n",
    "이후 N개의 줄에 두 양의 정수 Ai, Bi 가 주어진다. (1 ≤ Ai, Bi ≤ 10000)이는 i번째 전선이, 첫번째 전봇대의 Ai cm 고도에 걸려 있고, 두 번째 전봇대의 Bi cm 고도에 걸려 있음을 뜻한다.\n",
    "\n",
    "모든 Ai는 서로 다르고, 모든 Bi 도 서로 다르다. (두 전선의 끝점이 같은 경우가 없기 때문이다.) 세 전선이 한 점에서 만나지 않게 입력이 주어진다.\n",
    "\n",
    "[출력]\n",
    "각 테스트 케이스마다 한 줄씩 교차점의 개수를 출력하라.\n",
    "\n"
   ]
  },
  {
   "cell_type": "code",
   "execution_count": null,
   "metadata": {},
   "outputs": [],
   "source": [
    "def get_result():\n",
    "    # 리스트 arr: 튜플 형태로 a 전봇대와 b 전봇대를 저장할 리스트\n",
    "    size = len(arr)\n",
    "    cnt = 0\n",
    "    for i in range(size):\n",
    "        for tar in range(i):\n",
    "            # a 전봇대 : 튜플의 첫 번째 요소, b 전봇대: 튜플의 두 번째 요소\n",
    "            i_a, i_b = (arr[i][0], arr[i][1])\n",
    "            tar_a, tar_b = (arr[tar][0], arr[tar][1])\n",
    "            if i_b < tar_b:\n",
    "                cnt += 1\n",
    "    return cnt\n",
    "T = int(input())\n",
    "for tc in range(1, T+1):\n",
    "    N = int(input())\n",
    "    arr = []\n",
    "    for n in range(N):\n",
    "        a, b = map(int, input().split())\n",
    "        # 튜플 형태로 a 전봇대와 b 전봇대를 append\n",
    "        arr.append((a, b))\n",
    "\n",
    "    arr.sort(key = lambda x : x[0]) # 첫 번재 원소를 기준으로 오름차순 정렬\n",
    "    result = get_result()    \n",
    "    print(f'#{tc} {result}')\n"
   ]
  },
  {
   "cell_type": "markdown",
   "metadata": {},
   "source": [
    "# 풀이 예시 1\n",
    "A-B를 잇는 경우\n",
    "1~(A-1) 사이에, B보다 큰 것을 Counting"
   ]
  },
  {
   "cell_type": "markdown",
   "metadata": {},
   "source": [
    "# 추가 문제\n",
    "20349"
   ]
  }
 ],
 "metadata": {
  "kernelspec": {
   "display_name": "Python 3",
   "language": "python",
   "name": "python3"
  },
  "language_info": {
   "codemirror_mode": {
    "name": "ipython",
    "version": 3
   },
   "file_extension": ".py",
   "mimetype": "text/x-python",
   "name": "python",
   "nbconvert_exporter": "python",
   "pygments_lexer": "ipython3",
   "version": "3.9.13"
  }
 },
 "nbformat": 4,
 "nbformat_minor": 2
}
